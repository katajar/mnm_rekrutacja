{
 "cells": [
  {
   "cell_type": "code",
   "execution_count": 31,
   "id": "99547692",
   "metadata": {},
   "outputs": [
    {
     "name": "stdout",
     "output_type": "stream",
     "text": [
      "b ma 2\n",
      "r ma 3\n",
      "a ma 4\n",
      "None\n"
     ]
    }
   ],
   "source": [
    "#zadanie 2\n",
    "def ile_letters(string):\n",
    "    s_lower = s.lower()\n",
    "    unique = set(s_lower)\n",
    "    #print(unique)\n",
    "    for letter in unique:\n",
    "        ile = s_lower.count(letter)\n",
    "        if ile >= 2:\n",
    "            print(f\"{letter} ma {ile}\")\n",
    "    #return \n",
    "\n",
    "s = 'Rabar1BaRkA'\n",
    "print(ile_letters(s))    \n"
   ]
  },
  {
   "cell_type": "code",
   "execution_count": null,
   "id": "9802b6a0",
   "metadata": {},
   "outputs": [],
   "source": []
  }
 ],
 "metadata": {
  "kernelspec": {
   "display_name": "Python 3",
   "language": "python",
   "name": "python3"
  },
  "language_info": {
   "codemirror_mode": {
    "name": "ipython",
    "version": 3
   },
   "file_extension": ".py",
   "mimetype": "text/x-python",
   "name": "python",
   "nbconvert_exporter": "python",
   "pygments_lexer": "ipython3",
   "version": "3.6.9"
  }
 },
 "nbformat": 4,
 "nbformat_minor": 5
}
