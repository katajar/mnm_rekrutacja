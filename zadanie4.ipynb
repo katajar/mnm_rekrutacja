{
 "cells": [
  {
   "cell_type": "code",
   "execution_count": 1,
   "id": "fed5efa8-d88e-4e5e-b457-c7985addb061",
   "metadata": {},
   "outputs": [],
   "source": [
    "#pip install numpy # You may need to install numpy independently."
   ]
  },
  {
   "cell_type": "code",
   "execution_count": 2,
   "id": "28888e05-cba3-4d81-979f-83fc3fff9c6d",
   "metadata": {},
   "outputs": [],
   "source": [
    "#pip install VCF-kit"
   ]
  },
  {
   "cell_type": "code",
   "execution_count": 3,
   "id": "9a5414ef-0124-4c61-9c7b-54307a8617f9",
   "metadata": {},
   "outputs": [],
   "source": [
    "#pip install pandas"
   ]
  },
  {
   "cell_type": "code",
   "execution_count": 4,
   "id": "8b55bc42-38a8-4b6d-9ebf-a9f12600b106",
   "metadata": {},
   "outputs": [],
   "source": [
    "#pip install gzip"
   ]
  },
  {
   "cell_type": "code",
   "execution_count": 5,
   "id": "768ce696-0ae8-48d9-bc30-af90ff996a58",
   "metadata": {},
   "outputs": [],
   "source": [
    "import gzip"
   ]
  },
  {
   "cell_type": "code",
   "execution_count": 6,
   "id": "4147a585-12b1-4c4f-9c5b-cc073439e2d8",
   "metadata": {},
   "outputs": [],
   "source": [
    "import pandas as pd\n",
    "import gzip\n",
    "\n",
    "def get_vcf_names(vcf_path):\n",
    "    with gzip.open(vcf_path, \"rt\") as ifile:\n",
    "          for line in ifile:\n",
    "            if line.startswith(\"#CHROM\"):\n",
    "                  vcf_names = [x for x in line.split('\\t')]\n",
    "                  break\n",
    "    ifile.close()\n",
    "    return vcf_names\n",
    "\n",
    "\n",
    "names = get_vcf_names('/home/kate/Documents/mnm/split_chr/CPCT02220079.annotated.processed_reheader_chr12_sort.vcf.gz')\n",
    "vcf = pd.read_csv('/home/kate/Documents/mnm/split_chr/CPCT02220079.annotated.processed_reheader_chr12_sort.vcf.gz', compression='gzip', comment='#', delim_whitespace=True, header=None, names=names) #, chunksize=10000\n"
   ]
  },
  {
   "cell_type": "code",
   "execution_count": 33,
   "id": "1d87ff2a-4985-43aa-b510-a401fc4955d2",
   "metadata": {},
   "outputs": [],
   "source": [
    "#Utworzyc liste dlugosci dla insercji/delecji\n",
    "#insertions = []\n",
    "#deletions = []\n",
    "indels = []\n",
    "\n",
    "record = 1\n",
    "while record<len(vcf.ALT): #len(vcf.ALT)\n",
    "#    print(record)\n",
    "#    print(len(vcf.ALT[record]))\n",
    "    if len(vcf.ALT[record])>len(vcf.REF[record]): \n",
    "        indels.append(len(vcf.ALT[record]))\n",
    "    elif len(vcf.ALT[record])<len(vcf.REF[record]):\n",
    "        indels.append(len(vcf.ALT[record]))\n",
    "#    if len(vcf.ALT[record])>len(vcf.REF[record]):\n",
    "#        insertions[record] = len(vcf.ALT[record])\n",
    "#        insertions.append(len(vcf.ALT[record]))\n",
    "#    elif len(vcf.ALT[record])<len(vcf.REF[record]):\n",
    "#        deletions[record] = len(vcf.ALT[record])\n",
    "#        deletions.append(len(vcf.ALT[record]))\n",
    "    record=record+1"
   ]
  },
  {
   "cell_type": "code",
   "execution_count": 11,
   "id": "566e78fc-7387-41cd-a046-a28e1a419f97",
   "metadata": {},
   "outputs": [
    {
     "data": {
      "text/plain": [
       "22846"
      ]
     },
     "execution_count": 11,
     "metadata": {},
     "output_type": "execute_result"
    }
   ],
   "source": [
    "deletions.count(1)"
   ]
  },
  {
   "cell_type": "code",
   "execution_count": 40,
   "id": "e123d8a6-b0a7-4910-9392-0e4af79e8103",
   "metadata": {},
   "outputs": [],
   "source": [
    "indels_count = []\n",
    "indels_number = []\n",
    "\n",
    "for n in list(set(indels)):\n",
    "    indels_number.append(n)\n",
    "    indels_count.append(indels.count(n))\n",
    "    \n",
    "#insertions_count = []\n"
   ]
  },
  {
   "cell_type": "code",
   "execution_count": 47,
   "id": "5253117a-26a3-4160-a94f-264fdadc8de3",
   "metadata": {},
   "outputs": [],
   "source": [
    "indels_data = {'Number': indels_number, 'Count': indels_count}  \n",
    "indels_number_data = {'chr12': indels}\n",
    "indels_df = pd.DataFrame(indels_number_data)  "
   ]
  },
  {
   "cell_type": "code",
   "execution_count": 48,
   "id": "b38f3dd6-1a80-4e35-a6f2-c00e2e173c33",
   "metadata": {},
   "outputs": [
    {
     "data": {
      "text/html": [
       "<div>\n",
       "<style scoped>\n",
       "    .dataframe tbody tr th:only-of-type {\n",
       "        vertical-align: middle;\n",
       "    }\n",
       "\n",
       "    .dataframe tbody tr th {\n",
       "        vertical-align: top;\n",
       "    }\n",
       "\n",
       "    .dataframe thead th {\n",
       "        text-align: right;\n",
       "    }\n",
       "</style>\n",
       "<table border=\"1\" class=\"dataframe\">\n",
       "  <thead>\n",
       "    <tr style=\"text-align: right;\">\n",
       "      <th></th>\n",
       "      <th>chr12</th>\n",
       "    </tr>\n",
       "  </thead>\n",
       "  <tbody>\n",
       "    <tr>\n",
       "      <th>0</th>\n",
       "      <td>1</td>\n",
       "    </tr>\n",
       "    <tr>\n",
       "      <th>1</th>\n",
       "      <td>20</td>\n",
       "    </tr>\n",
       "    <tr>\n",
       "      <th>2</th>\n",
       "      <td>1</td>\n",
       "    </tr>\n",
       "    <tr>\n",
       "      <th>3</th>\n",
       "      <td>1</td>\n",
       "    </tr>\n",
       "    <tr>\n",
       "      <th>4</th>\n",
       "      <td>1</td>\n",
       "    </tr>\n",
       "    <tr>\n",
       "      <th>...</th>\n",
       "      <td>...</td>\n",
       "    </tr>\n",
       "    <tr>\n",
       "      <th>42433</th>\n",
       "      <td>7</td>\n",
       "    </tr>\n",
       "    <tr>\n",
       "      <th>42434</th>\n",
       "      <td>1</td>\n",
       "    </tr>\n",
       "    <tr>\n",
       "      <th>42435</th>\n",
       "      <td>3</td>\n",
       "    </tr>\n",
       "    <tr>\n",
       "      <th>42436</th>\n",
       "      <td>1</td>\n",
       "    </tr>\n",
       "    <tr>\n",
       "      <th>42437</th>\n",
       "      <td>23</td>\n",
       "    </tr>\n",
       "  </tbody>\n",
       "</table>\n",
       "<p>42438 rows × 1 columns</p>\n",
       "</div>"
      ],
      "text/plain": [
       "       chr12\n",
       "0          1\n",
       "1         20\n",
       "2          1\n",
       "3          1\n",
       "4          1\n",
       "...      ...\n",
       "42433      7\n",
       "42434      1\n",
       "42435      3\n",
       "42436      1\n",
       "42437     23\n",
       "\n",
       "[42438 rows x 1 columns]"
      ]
     },
     "execution_count": 48,
     "metadata": {},
     "output_type": "execute_result"
    }
   ],
   "source": [
    "indels_df"
   ]
  },
  {
   "cell_type": "code",
   "execution_count": 51,
   "id": "4da2c892-816b-4cfb-a021-e3a8bf65e891",
   "metadata": {},
   "outputs": [
    {
     "data": {
      "image/png": "[encoded data removed]",
      "text/plain": [
       "<Figure size 432x288 with 1 Axes>"
      ]
     },
     "metadata": {
      "needs_background": "light"
     },
     "output_type": "display_data"
    }
   ],
   "source": [
    "ax = indels_df.plot.hist(bins=0)"
   ]
  },
  {
   "cell_type": "code",
   "execution_count": 52,
   "id": "102565d4-3ccb-4ffc-8b94-7b76d0cbb7c9",
   "metadata": {},
   "outputs": [
    {
     "data": {
      "text/plain": [
       "482"
      ]
     },
     "execution_count": 52,
     "metadata": {},
     "output_type": "execute_result"
    }
   ],
   "source": [
    "max(indels_df.chr12)"
   ]
  },
  {
   "cell_type": "code",
   "execution_count": null,
   "id": "e5f41ca2-9974-4f7b-85cf-7fc802259a4a",
   "metadata": {},
   "outputs": [],
   "source": []
  },
  {
   "cell_type": "code",
   "execution_count": 74,
   "id": "335d3d01-e238-4133-bc04-4714adbfcfcf",
   "metadata": {},
   "outputs": [],
   "source": [
    "chromosomes = [\"chr\" + str(chr) for chr in range(1,23)]"
   ]
  },
  {
   "cell_type": "code",
   "execution_count": 75,
   "id": "4763e2cb-9aa5-4b6c-ae58-33f7af75aed1",
   "metadata": {},
   "outputs": [
    {
     "name": "stdout",
     "output_type": "stream",
     "text": [
      "['chr1', 'chr2', 'chr3', 'chr4', 'chr5', 'chr6', 'chr7', 'chr8', 'chr9', 'chr10', 'chr11', 'chr12', 'chr13', 'chr14', 'chr15', 'chr16', 'chr17', 'chr18', 'chr19', 'chr20', 'chr21', 'chr22']\n"
     ]
    }
   ],
   "source": [
    "print(chromosomes)"
   ]
  },
  {
   "cell_type": "code",
   "execution_count": 92,
   "id": "491f7953-6a7e-471f-9cc0-da3e25163f43",
   "metadata": {},
   "outputs": [],
   "source": [
    "chromosomes_df = df = pd.DataFrame({\"chr\":chromosomes})"
   ]
  },
  {
   "cell_type": "code",
   "execution_count": 90,
   "id": "23572881-e644-477b-8df5-fc3acf7d2bed",
   "metadata": {},
   "outputs": [],
   "source": [
    "#chromosomes_df = df = pd.DataFrame(chromosomes)"
   ]
  },
  {
   "cell_type": "code",
   "execution_count": 99,
   "id": "c4b46de9-7518-4989-9cd6-6ae300f6db16",
   "metadata": {},
   "outputs": [],
   "source": [
    "chromosomes_add = [\"chrMT\", \"chrX\", \"chrY\"]\n",
    "#chromosomes_add_df = pd.DataFrame(\"chr\":chromosomes_add)\n",
    "#chromosomes_df.append(chromosomes_add_df, ignore_index = True)\n",
    "#chromosomes_df\n",
    "chrom = chromosomes + chromosomes_add"
   ]
  },
  {
   "cell_type": "code",
   "execution_count": 100,
   "id": "64a23640-ab79-4aff-a13f-c7288014938d",
   "metadata": {},
   "outputs": [
    {
     "data": {
      "text/plain": [
       "['chr1',\n",
       " 'chr2',\n",
       " 'chr3',\n",
       " 'chr4',\n",
       " 'chr5',\n",
       " 'chr6',\n",
       " 'chr7',\n",
       " 'chr8',\n",
       " 'chr9',\n",
       " 'chr10',\n",
       " 'chr11',\n",
       " 'chr12',\n",
       " 'chr13',\n",
       " 'chr14',\n",
       " 'chr15',\n",
       " 'chr16',\n",
       " 'chr17',\n",
       " 'chr18',\n",
       " 'chr19',\n",
       " 'chr20',\n",
       " 'chr21',\n",
       " 'chr22',\n",
       " 'chrMT',\n",
       " 'chrX',\n",
       " 'chrY']"
      ]
     },
     "execution_count": 100,
     "metadata": {},
     "output_type": "execute_result"
    }
   ],
   "source": [
    "chrom"
   ]
  },
  {
   "cell_type": "code",
   "execution_count": 151,
   "id": "ed6378b2-f16d-4bf7-900d-79001aab1a4f",
   "metadata": {},
   "outputs": [],
   "source": [
    "#indels_df = pd.DataFrame()\n",
    "indels_number_data = {}"
   ]
  },
  {
   "cell_type": "code",
   "execution_count": 161,
   "id": "604c8cbb-0b98-4da3-a86d-889cc97d3962",
   "metadata": {},
   "outputs": [],
   "source": [
    "for ch in chrom:\n",
    "    #print('/home/kate/Documents/mnm/split_chr/CPCT02220079.annotated.processed_reheader_chr1_sorted.vcf.gz')\n",
    "    names = get_vcf_names('/home/kate/Documents/mnm/split_chr/CPCT02220079.annotated.processed_reheader_' + ch + '_sorted.vcf.gz')\n",
    "    vcf = pd.read_csv('/home/kate/Documents/mnm/split_chr/CPCT02220079.annotated.processed_reheader_' + ch + '_sorted.vcf.gz', compression='gzip', comment='#', delim_whitespace=True, header=None, names=names) #, chunksize=10000\n",
    "    \n",
    "    #extracting indels\n",
    "    indels = []\n",
    "\n",
    "    record = 1\n",
    "    while record<len(vcf.ALT): #len(vcf.ALT)\n",
    "    #    print(record)\n",
    "    #    print(len(vcf.ALT[record]))\n",
    "        if len(vcf.ALT[record])>len(vcf.REF[record]): \n",
    "            indels.append(len(vcf.ALT[record]))\n",
    "        elif len(vcf.ALT[record])<len(vcf.REF[record]):\n",
    "            indels.append(len(vcf.ALT[record]))\n",
    "        record=record+1\n",
    "        \n",
    "    #Extract indels data\n",
    "    indels_number_data[ch] = indels"
   ]
  },
  {
   "cell_type": "code",
   "execution_count": 162,
   "id": "ccc7ca15-6ede-4975-a101-65993f864421",
   "metadata": {},
   "outputs": [],
   "source": [
    "indels_df = pd.DataFrame.from_dict(indels_number_data, orient='index').T"
   ]
  },
  {
   "cell_type": "code",
   "execution_count": 163,
   "id": "a30e555a-2226-4ae8-b24a-86b9308ce30b",
   "metadata": {},
   "outputs": [
    {
     "data": {
      "text/html": [
       "<div>\n",
       "<style scoped>\n",
       "    .dataframe tbody tr th:only-of-type {\n",
       "        vertical-align: middle;\n",
       "    }\n",
       "\n",
       "    .dataframe tbody tr th {\n",
       "        vertical-align: top;\n",
       "    }\n",
       "\n",
       "    .dataframe thead th {\n",
       "        text-align: right;\n",
       "    }\n",
       "</style>\n",
       "<table border=\"1\" class=\"dataframe\">\n",
       "  <thead>\n",
       "    <tr style=\"text-align: right;\">\n",
       "      <th></th>\n",
       "      <th>chr1</th>\n",
       "      <th>chr2</th>\n",
       "      <th>chr3</th>\n",
       "      <th>chr4</th>\n",
       "      <th>chr5</th>\n",
       "      <th>chr6</th>\n",
       "      <th>chr7</th>\n",
       "      <th>chr8</th>\n",
       "      <th>chr9</th>\n",
       "      <th>chr10</th>\n",
       "      <th>...</th>\n",
       "      <th>chr16</th>\n",
       "      <th>chr17</th>\n",
       "      <th>chr18</th>\n",
       "      <th>chr19</th>\n",
       "      <th>chr20</th>\n",
       "      <th>chr21</th>\n",
       "      <th>chr22</th>\n",
       "      <th>chrMT</th>\n",
       "      <th>chrX</th>\n",
       "      <th>chrY</th>\n",
       "    </tr>\n",
       "  </thead>\n",
       "  <tbody>\n",
       "    <tr>\n",
       "      <th>0</th>\n",
       "      <td>1.0</td>\n",
       "      <td>2.0</td>\n",
       "      <td>1.0</td>\n",
       "      <td>2.0</td>\n",
       "      <td>1.0</td>\n",
       "      <td>1.0</td>\n",
       "      <td>1.0</td>\n",
       "      <td>1.0</td>\n",
       "      <td>1.0</td>\n",
       "      <td>1.0</td>\n",
       "      <td>...</td>\n",
       "      <td>5.0</td>\n",
       "      <td>3.0</td>\n",
       "      <td>1.0</td>\n",
       "      <td>1.0</td>\n",
       "      <td>11.0</td>\n",
       "      <td>1.0</td>\n",
       "      <td>9.0</td>\n",
       "      <td>2.0</td>\n",
       "      <td>1.0</td>\n",
       "      <td>1.0</td>\n",
       "    </tr>\n",
       "    <tr>\n",
       "      <th>1</th>\n",
       "      <td>1.0</td>\n",
       "      <td>1.0</td>\n",
       "      <td>1.0</td>\n",
       "      <td>1.0</td>\n",
       "      <td>1.0</td>\n",
       "      <td>1.0</td>\n",
       "      <td>1.0</td>\n",
       "      <td>1.0</td>\n",
       "      <td>1.0</td>\n",
       "      <td>1.0</td>\n",
       "      <td>...</td>\n",
       "      <td>1.0</td>\n",
       "      <td>2.0</td>\n",
       "      <td>1.0</td>\n",
       "      <td>2.0</td>\n",
       "      <td>7.0</td>\n",
       "      <td>1.0</td>\n",
       "      <td>9.0</td>\n",
       "      <td>NaN</td>\n",
       "      <td>2.0</td>\n",
       "      <td>9.0</td>\n",
       "    </tr>\n",
       "    <tr>\n",
       "      <th>2</th>\n",
       "      <td>1.0</td>\n",
       "      <td>1.0</td>\n",
       "      <td>1.0</td>\n",
       "      <td>1.0</td>\n",
       "      <td>1.0</td>\n",
       "      <td>1.0</td>\n",
       "      <td>3.0</td>\n",
       "      <td>1.0</td>\n",
       "      <td>1.0</td>\n",
       "      <td>1.0</td>\n",
       "      <td>...</td>\n",
       "      <td>1.0</td>\n",
       "      <td>1.0</td>\n",
       "      <td>1.0</td>\n",
       "      <td>1.0</td>\n",
       "      <td>1.0</td>\n",
       "      <td>1.0</td>\n",
       "      <td>2.0</td>\n",
       "      <td>NaN</td>\n",
       "      <td>1.0</td>\n",
       "      <td>3.0</td>\n",
       "    </tr>\n",
       "    <tr>\n",
       "      <th>3</th>\n",
       "      <td>1.0</td>\n",
       "      <td>2.0</td>\n",
       "      <td>2.0</td>\n",
       "      <td>3.0</td>\n",
       "      <td>1.0</td>\n",
       "      <td>1.0</td>\n",
       "      <td>1.0</td>\n",
       "      <td>1.0</td>\n",
       "      <td>1.0</td>\n",
       "      <td>1.0</td>\n",
       "      <td>...</td>\n",
       "      <td>1.0</td>\n",
       "      <td>1.0</td>\n",
       "      <td>1.0</td>\n",
       "      <td>3.0</td>\n",
       "      <td>1.0</td>\n",
       "      <td>1.0</td>\n",
       "      <td>1.0</td>\n",
       "      <td>NaN</td>\n",
       "      <td>123.0</td>\n",
       "      <td>1.0</td>\n",
       "    </tr>\n",
       "    <tr>\n",
       "      <th>4</th>\n",
       "      <td>2.0</td>\n",
       "      <td>4.0</td>\n",
       "      <td>2.0</td>\n",
       "      <td>2.0</td>\n",
       "      <td>1.0</td>\n",
       "      <td>1.0</td>\n",
       "      <td>2.0</td>\n",
       "      <td>3.0</td>\n",
       "      <td>1.0</td>\n",
       "      <td>2.0</td>\n",
       "      <td>...</td>\n",
       "      <td>17.0</td>\n",
       "      <td>3.0</td>\n",
       "      <td>1.0</td>\n",
       "      <td>1.0</td>\n",
       "      <td>2.0</td>\n",
       "      <td>2.0</td>\n",
       "      <td>1.0</td>\n",
       "      <td>NaN</td>\n",
       "      <td>1.0</td>\n",
       "      <td>4.0</td>\n",
       "    </tr>\n",
       "    <tr>\n",
       "      <th>...</th>\n",
       "      <td>...</td>\n",
       "      <td>...</td>\n",
       "      <td>...</td>\n",
       "      <td>...</td>\n",
       "      <td>...</td>\n",
       "      <td>...</td>\n",
       "      <td>...</td>\n",
       "      <td>...</td>\n",
       "      <td>...</td>\n",
       "      <td>...</td>\n",
       "      <td>...</td>\n",
       "      <td>...</td>\n",
       "      <td>...</td>\n",
       "      <td>...</td>\n",
       "      <td>...</td>\n",
       "      <td>...</td>\n",
       "      <td>...</td>\n",
       "      <td>...</td>\n",
       "      <td>...</td>\n",
       "      <td>...</td>\n",
       "      <td>...</td>\n",
       "    </tr>\n",
       "    <tr>\n",
       "      <th>72776</th>\n",
       "      <td>NaN</td>\n",
       "      <td>2.0</td>\n",
       "      <td>NaN</td>\n",
       "      <td>NaN</td>\n",
       "      <td>NaN</td>\n",
       "      <td>NaN</td>\n",
       "      <td>NaN</td>\n",
       "      <td>NaN</td>\n",
       "      <td>NaN</td>\n",
       "      <td>NaN</td>\n",
       "      <td>...</td>\n",
       "      <td>NaN</td>\n",
       "      <td>NaN</td>\n",
       "      <td>NaN</td>\n",
       "      <td>NaN</td>\n",
       "      <td>NaN</td>\n",
       "      <td>NaN</td>\n",
       "      <td>NaN</td>\n",
       "      <td>NaN</td>\n",
       "      <td>NaN</td>\n",
       "      <td>NaN</td>\n",
       "    </tr>\n",
       "    <tr>\n",
       "      <th>72777</th>\n",
       "      <td>NaN</td>\n",
       "      <td>1.0</td>\n",
       "      <td>NaN</td>\n",
       "      <td>NaN</td>\n",
       "      <td>NaN</td>\n",
       "      <td>NaN</td>\n",
       "      <td>NaN</td>\n",
       "      <td>NaN</td>\n",
       "      <td>NaN</td>\n",
       "      <td>NaN</td>\n",
       "      <td>...</td>\n",
       "      <td>NaN</td>\n",
       "      <td>NaN</td>\n",
       "      <td>NaN</td>\n",
       "      <td>NaN</td>\n",
       "      <td>NaN</td>\n",
       "      <td>NaN</td>\n",
       "      <td>NaN</td>\n",
       "      <td>NaN</td>\n",
       "      <td>NaN</td>\n",
       "      <td>NaN</td>\n",
       "    </tr>\n",
       "    <tr>\n",
       "      <th>72778</th>\n",
       "      <td>NaN</td>\n",
       "      <td>1.0</td>\n",
       "      <td>NaN</td>\n",
       "      <td>NaN</td>\n",
       "      <td>NaN</td>\n",
       "      <td>NaN</td>\n",
       "      <td>NaN</td>\n",
       "      <td>NaN</td>\n",
       "      <td>NaN</td>\n",
       "      <td>NaN</td>\n",
       "      <td>...</td>\n",
       "      <td>NaN</td>\n",
       "      <td>NaN</td>\n",
       "      <td>NaN</td>\n",
       "      <td>NaN</td>\n",
       "      <td>NaN</td>\n",
       "      <td>NaN</td>\n",
       "      <td>NaN</td>\n",
       "      <td>NaN</td>\n",
       "      <td>NaN</td>\n",
       "      <td>NaN</td>\n",
       "    </tr>\n",
       "    <tr>\n",
       "      <th>72779</th>\n",
       "      <td>NaN</td>\n",
       "      <td>3.0</td>\n",
       "      <td>NaN</td>\n",
       "      <td>NaN</td>\n",
       "      <td>NaN</td>\n",
       "      <td>NaN</td>\n",
       "      <td>NaN</td>\n",
       "      <td>NaN</td>\n",
       "      <td>NaN</td>\n",
       "      <td>NaN</td>\n",
       "      <td>...</td>\n",
       "      <td>NaN</td>\n",
       "      <td>NaN</td>\n",
       "      <td>NaN</td>\n",
       "      <td>NaN</td>\n",
       "      <td>NaN</td>\n",
       "      <td>NaN</td>\n",
       "      <td>NaN</td>\n",
       "      <td>NaN</td>\n",
       "      <td>NaN</td>\n",
       "      <td>NaN</td>\n",
       "    </tr>\n",
       "    <tr>\n",
       "      <th>72780</th>\n",
       "      <td>NaN</td>\n",
       "      <td>4.0</td>\n",
       "      <td>NaN</td>\n",
       "      <td>NaN</td>\n",
       "      <td>NaN</td>\n",
       "      <td>NaN</td>\n",
       "      <td>NaN</td>\n",
       "      <td>NaN</td>\n",
       "      <td>NaN</td>\n",
       "      <td>NaN</td>\n",
       "      <td>...</td>\n",
       "      <td>NaN</td>\n",
       "      <td>NaN</td>\n",
       "      <td>NaN</td>\n",
       "      <td>NaN</td>\n",
       "      <td>NaN</td>\n",
       "      <td>NaN</td>\n",
       "      <td>NaN</td>\n",
       "      <td>NaN</td>\n",
       "      <td>NaN</td>\n",
       "      <td>NaN</td>\n",
       "    </tr>\n",
       "  </tbody>\n",
       "</table>\n",
       "<p>72781 rows × 25 columns</p>\n",
       "</div>"
      ],
      "text/plain": [
       "       chr1  chr2  chr3  chr4  chr5  chr6  chr7  chr8  chr9  chr10  ...  \\\n",
       "0       1.0   2.0   1.0   2.0   1.0   1.0   1.0   1.0   1.0    1.0  ...   \n",
       "1       1.0   1.0   1.0   1.0   1.0   1.0   1.0   1.0   1.0    1.0  ...   \n",
       "2       1.0   1.0   1.0   1.0   1.0   1.0   3.0   1.0   1.0    1.0  ...   \n",
       "3       1.0   2.0   2.0   3.0   1.0   1.0   1.0   1.0   1.0    1.0  ...   \n",
       "4       2.0   4.0   2.0   2.0   1.0   1.0   2.0   3.0   1.0    2.0  ...   \n",
       "...     ...   ...   ...   ...   ...   ...   ...   ...   ...    ...  ...   \n",
       "72776   NaN   2.0   NaN   NaN   NaN   NaN   NaN   NaN   NaN    NaN  ...   \n",
       "72777   NaN   1.0   NaN   NaN   NaN   NaN   NaN   NaN   NaN    NaN  ...   \n",
       "72778   NaN   1.0   NaN   NaN   NaN   NaN   NaN   NaN   NaN    NaN  ...   \n",
       "72779   NaN   3.0   NaN   NaN   NaN   NaN   NaN   NaN   NaN    NaN  ...   \n",
       "72780   NaN   4.0   NaN   NaN   NaN   NaN   NaN   NaN   NaN    NaN  ...   \n",
       "\n",
       "       chr16  chr17  chr18  chr19  chr20  chr21  chr22  chrMT   chrX  chrY  \n",
       "0        5.0    3.0    1.0    1.0   11.0    1.0    9.0    2.0    1.0   1.0  \n",
       "1        1.0    2.0    1.0    2.0    7.0    1.0    9.0    NaN    2.0   9.0  \n",
       "2        1.0    1.0    1.0    1.0    1.0    1.0    2.0    NaN    1.0   3.0  \n",
       "3        1.0    1.0    1.0    3.0    1.0    1.0    1.0    NaN  123.0   1.0  \n",
       "4       17.0    3.0    1.0    1.0    2.0    2.0    1.0    NaN    1.0   4.0  \n",
       "...      ...    ...    ...    ...    ...    ...    ...    ...    ...   ...  \n",
       "72776    NaN    NaN    NaN    NaN    NaN    NaN    NaN    NaN    NaN   NaN  \n",
       "72777    NaN    NaN    NaN    NaN    NaN    NaN    NaN    NaN    NaN   NaN  \n",
       "72778    NaN    NaN    NaN    NaN    NaN    NaN    NaN    NaN    NaN   NaN  \n",
       "72779    NaN    NaN    NaN    NaN    NaN    NaN    NaN    NaN    NaN   NaN  \n",
       "72780    NaN    NaN    NaN    NaN    NaN    NaN    NaN    NaN    NaN   NaN  \n",
       "\n",
       "[72781 rows x 25 columns]"
      ]
     },
     "execution_count": 163,
     "metadata": {},
     "output_type": "execute_result"
    }
   ],
   "source": [
    "indels_df"
   ]
  },
  {
   "cell_type": "code",
   "execution_count": 164,
   "id": "d231feb9-6e7f-40dd-8f96-836da6dce2ba",
   "metadata": {},
   "outputs": [
    {
     "data": {
      "image/png": "[encoded data removed]",
      "text/plain": [
       "<Figure size 432x288 with 1 Axes>"
      ]
     },
     "metadata": {
      "needs_background": "light"
     },
     "output_type": "display_data"
    }
   ],
   "source": [
    "ax = indels_df.plot.hist(bins=50, alpha=0.5)"
   ]
  },
  {
   "cell_type": "code",
   "execution_count": 165,
   "id": "f07329ab-7191-4d18-af57-6aff1f679536",
   "metadata": {},
   "outputs": [],
   "source": [
    "indels_df.to_csv('/home/kate/Documents/mnm/zadanie4_out.tsv', sep = '\\t')"
   ]
  },
  {
   "cell_type": "code",
   "execution_count": null,
   "id": "4d166745-7218-4acd-ace1-85ff8024214b",
   "metadata": {},
   "outputs": [],
   "source": []
  }
 ],
 "metadata": {
  "kernelspec": {
   "display_name": "Python 3 (ipykernel)",
   "language": "python",
   "name": "python3"
  },
  "language_info": {
   "codemirror_mode": {
    "name": "ipython",
    "version": 3
   },
   "file_extension": ".py",
   "mimetype": "text/x-python",
   "name": "python",
   "nbconvert_exporter": "python",
   "pygments_lexer": "ipython3",
   "version": "3.9.7"
  }
 },
 "nbformat": 4,
 "nbformat_minor": 5
}
