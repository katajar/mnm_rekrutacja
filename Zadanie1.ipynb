{
 "cells": [
  {
   "cell_type": "code",
   "execution_count": 20,
   "id": "a52f2ff1",
   "metadata": {},
   "outputs": [
    {
     "name": "stdout",
     "output_type": "stream",
     "text": [
      "['AbCd Ef', 'aBcD eF']\n"
     ]
    }
   ],
   "source": [
    "def lower_upper(string):\n",
    "    out1 = ''\n",
    "    out2 = ''\n",
    "    i = True\n",
    "    j = False\n",
    "    for letter in s:\n",
    "        if i:\n",
    "            out1 += letter.upper()\n",
    "            out2 += letter.lower()\n",
    "        else:\n",
    "            out1 += letter.lower()\n",
    "            out2 += letter.upper()\n",
    "        if letter != ' ':\n",
    "            i = not i\n",
    "    #print(out1)\n",
    "    #print(out2)\n",
    "    out = [out1,out2]\n",
    "    #print(out)\n",
    "    return out\n",
    "    \n",
    "s = 'abcd ef'\n",
    "print(lower_upper(s))"
   ]
  },
  {
   "cell_type": "code",
   "execution_count": null,
   "id": "0ac7c5a0",
   "metadata": {},
   "outputs": [],
   "source": []
  }
 ],
 "metadata": {
  "kernelspec": {
   "display_name": "Python 3",
   "language": "python",
   "name": "python3"
  },
  "language_info": {
   "codemirror_mode": {
    "name": "ipython",
    "version": 3
   },
   "file_extension": ".py",
   "mimetype": "text/x-python",
   "name": "python",
   "nbconvert_exporter": "python",
   "pygments_lexer": "ipython3",
   "version": "3.6.9"
  }
 },
 "nbformat": 4,
 "nbformat_minor": 5
}
